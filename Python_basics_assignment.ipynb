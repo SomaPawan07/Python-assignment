{
  "nbformat": 4,
  "nbformat_minor": 0,
  "metadata": {
    "colab": {
      "provenance": []
    },
    "kernelspec": {
      "name": "python3",
      "display_name": "Python 3"
    },
    "language_info": {
      "name": "python"
    }
  },
  "cells": [
    {
      "cell_type": "markdown",
      "source": [
        "**#Python basics**\n",
        "\n",
        "Q1. What is Python, and why is it popular?\n",
        "- Python is a programming language that is easy to understand and write, making it a popular choice among developers and programmers. It is compatible with various programming paradigms, such as procedural, object-oriented, and functional programming.\n",
        "Python is popular because of the following factors:\n",
        "* Ease of learning - Python has a clean and readable syntax.\n",
        "* Versatility - It is versatile and used in a wide range of fields such as web development, cyber security etc.\n",
        "* Lot of libraries - Python comes with many built-in libraries and has a massive ecosystem of third-party packages.\n",
        "* Huge active community - Its active community ensures regular updates and a wealth of tutorials and documentation.\n",
        "* Used by Big Tech - Companies like Google, Netflix, Instagram, and NASA use Python for various applications, which has boosted its credibility and adoption.\n",
        "\n",
        "Q2.What is an interpreter in Python?\n",
        "- In Python, an interpreter is a program that reads and executes Python code line by line.\n",
        "\n",
        "Q3. What are pre-defined keywords in Python?\n",
        "-   Keywords are reserved words in Python that have special meanings and  cannot be used as identifiers (variable names, function names, etc.).  Examples of keywords include if, else, while, for, def, class, import,  try, except, return, True, False, None, etc.They are case-sensitive and cannot be redefined or overridden within a Python program.\n",
        "\n",
        "Q4. Can keywords be used as variable names?\n",
        "-   No, keywords cannot be used as variable names in Python and if we will try to use a keyword as a variable name, we'll get a syntax error.\n",
        "\n",
        "Q5. What is mutability in Python?\n",
        "-   In Python, objects can be either changeable (modifiable) or unchangeable. Mutable objects, such as lists and dictionaries, can be modified after creation.It affects how objects are stored and manipulated in memory, impacting performance, memory usage, and concurrency in Python programs.\n",
        "\n",
        "Q6. Why are lists mutable, but tuples are immutable?\n",
        "-   Lists are mutable and tuples are immutable in Python because they are designed with different purposes and trade-offs in mind.\n",
        "Mutable are intended for dynamic data and are effecient while tuples are designed for fixed data and are more memory-efficient than lists due to their fixed size and immutability.\n",
        "\n",
        "Q7. What is the difference between “==” and “is” operators in Python?\n",
        "-   The difference between \"==\" and \"is\" operators are as follows:\n",
        "* Equality operator\"==\" - It checks if two variables have the same value  and it also compares contents or values, not memory locations.\n",
        "* Identity Operator\"is\" - It checks if two variables point to the exact same object in memory and it also compares identity (i.e., memory address), not value.\n",
        "\n",
        "Q8. What are logical operators in Python?\n",
        "-   Logical operators in Python are used to combine or evaluate Boolean expressions (expressions that return True or False).\n",
        "\n",
        "Q9. What is type casting in Python?\n",
        "-   Type casting, also referred to as type conversion, is the process of changing one data type to another in Python.\n",
        "Python provides built-in functions for type casting, such as int(), float(), str(), list(), tuple(), dict(), etc.\n",
        "\n",
        "Q10. What is the difference between implicit and explicit type casting?\n",
        "-    The difference between implicit and explicit type casting are:\n",
        "Implicit - It is done by Python automatically and happens when there is no risk of data loss, it usually occurs in expressions with mixed types.\n",
        "Explicit - It is done by the programmer and we use built-in functions like int(), float(), str(), etc, it is required when automatic conversion doesn't happen or might be risky.\n",
        "\n",
        "Q11. What is the purpose of conditional statements in Python?\n",
        "-    The purpose of conditional statements in Python is to allow your program to make decisions and execute different code depending on whether a condition is true or false. Python supports conditional statements such as if, elif (else if), and else to control the flow of execution.\n",
        "\n",
        "Q12. How does the elif statement work?\n",
        "-    The *elif* statement in Python stands for \"else if\" and is used to check multiple conditions in order, after the initial if condition.\n",
        "\n",
        "Q13. What is the difference between for and while loops ?\n",
        "-   The difference between for and while loop is that “for” loops are used for iterating over a sequence of elements, while “while” loops are used for executing code until a specified condition becomes False.\n",
        "\n",
        "Q14. Describe a scenario where a while loop is more suitable than a for loop?\n",
        "-    A while loop is more suitable than a for loop when you don't know in advance how many times the loop should run — especially when the loop depends on user input, sensor data, or changing conditions.\n",
        "\n",
        "Example : print even numbers from 5 to 10 using both a for loop and a while loop.\n"
      ],
      "metadata": {
        "id": "UT_OJoBr0K8D"
      }
    },
    {
      "cell_type": "markdown",
      "source": [
        "For loop"
      ],
      "metadata": {
        "id": "sR8hy3zvhm6z"
      }
    },
    {
      "cell_type": "code",
      "source": [
        "n = 10\n",
        "i = 5\n",
        "\n",
        "for x in range(i, n + 1):\n",
        "    if x % 2 == 0:\n",
        "        print(x)"
      ],
      "metadata": {
        "colab": {
          "base_uri": "https://localhost:8080/"
        },
        "id": "IL-4p8wehc1I",
        "outputId": "a287fc0e-3bc0-4b63-d29e-ce6df57afbec"
      },
      "execution_count": null,
      "outputs": [
        {
          "output_type": "stream",
          "name": "stdout",
          "text": [
            "6\n",
            "8\n",
            "10\n"
          ]
        }
      ]
    },
    {
      "cell_type": "markdown",
      "source": [
        "While loop"
      ],
      "metadata": {
        "id": "yI8s7LG9hrmy"
      }
    },
    {
      "cell_type": "code",
      "execution_count": null,
      "metadata": {
        "id": "B9-oB0znz7yP",
        "colab": {
          "base_uri": "https://localhost:8080/"
        },
        "outputId": "aca2881b-a50e-48bf-c91c-7b17f4924a53"
      },
      "outputs": [
        {
          "output_type": "stream",
          "name": "stdout",
          "text": [
            "6\n",
            "8\n",
            "10\n"
          ]
        }
      ],
      "source": [
        "n = 10\n",
        "i = 5\n",
        "\n",
        "while i <= n:\n",
        "    if i % 2 == 0:\n",
        "        print(i)\n",
        "    i += 1"
      ]
    },
    {
      "cell_type": "markdown",
      "source": [
        "**#Practical questions**"
      ],
      "metadata": {
        "id": "oy1E5i_Mhpnv"
      }
    },
    {
      "cell_type": "markdown",
      "source": [
        "Q1.  Write a Python program to print \"Hello, World!\""
      ],
      "metadata": {
        "id": "p7lhBFBCz9kD"
      }
    },
    {
      "cell_type": "code",
      "source": [
        "print(\"Hello,World\")"
      ],
      "metadata": {
        "colab": {
          "base_uri": "https://localhost:8080/"
        },
        "id": "vN4s0E-xiNA8",
        "outputId": "c4579dd8-cd1d-44ba-e353-77d3720625a9"
      },
      "execution_count": null,
      "outputs": [
        {
          "output_type": "stream",
          "name": "stdout",
          "text": [
            "Hello,World\n"
          ]
        }
      ]
    },
    {
      "cell_type": "markdown",
      "source": [
        "Q2. Write a Python program that displays your name and age."
      ],
      "metadata": {
        "id": "Vo05esH6z8nl"
      }
    },
    {
      "cell_type": "code",
      "source": [
        "name = \"soma\"\n",
        "print(\"My name is\",name)\n",
        "age = 26\n",
        "print(\"I am\", age, \"years old.\")"
      ],
      "metadata": {
        "colab": {
          "base_uri": "https://localhost:8080/"
        },
        "id": "ETEqipa2ibvl",
        "outputId": "762e4aad-7177-42ee-8dfa-c6f4bd01e321"
      },
      "execution_count": null,
      "outputs": [
        {
          "output_type": "stream",
          "name": "stdout",
          "text": [
            "My name is soma\n",
            "I am 26 years old.\n"
          ]
        }
      ]
    },
    {
      "cell_type": "markdown",
      "source": [
        "Q3. Write code to print all the pre-defined keywords in Python using the keyword library."
      ],
      "metadata": {
        "id": "EvkYf2XMk5Mz"
      }
    },
    {
      "cell_type": "code",
      "source": [
        "import keyword\n",
        "keywords_list = keyword.kwlist\n",
        "print(\"Python keywords:\")\n",
        "for kw in keywords_list:\n",
        "    print(kw)"
      ],
      "metadata": {
        "colab": {
          "base_uri": "https://localhost:8080/"
        },
        "id": "krUy_4ZYlAfC",
        "outputId": "f5be2ee1-e1f2-40ce-ff97-431f0f13f1da"
      },
      "execution_count": null,
      "outputs": [
        {
          "output_type": "stream",
          "name": "stdout",
          "text": [
            "Python keywords:\n",
            "False\n",
            "None\n",
            "True\n",
            "and\n",
            "as\n",
            "assert\n",
            "async\n",
            "await\n",
            "break\n",
            "class\n",
            "continue\n",
            "def\n",
            "del\n",
            "elif\n",
            "else\n",
            "except\n",
            "finally\n",
            "for\n",
            "from\n",
            "global\n",
            "if\n",
            "import\n",
            "in\n",
            "is\n",
            "lambda\n",
            "nonlocal\n",
            "not\n",
            "or\n",
            "pass\n",
            "raise\n",
            "return\n",
            "try\n",
            "while\n",
            "with\n",
            "yield\n"
          ]
        }
      ]
    },
    {
      "cell_type": "markdown",
      "source": [
        "Q4. Write a program that checks if a given word is a Python keyword."
      ],
      "metadata": {
        "id": "OdVwBf3-mjo9"
      }
    },
    {
      "cell_type": "code",
      "source": [
        "import keyword\n",
        "word = \"lambda\"\n",
        "if keyword.iskeyword(word):\n",
        "    print(f\"{word} is a Python keyword.\")\n",
        "else:\n",
        "    print(f\"{word} is not a Python keyword.\")"
      ],
      "metadata": {
        "colab": {
          "base_uri": "https://localhost:8080/"
        },
        "id": "bSo7Fpz7mp8O",
        "outputId": "6f468e2b-b4c3-40dd-bad5-396025e9616a"
      },
      "execution_count": null,
      "outputs": [
        {
          "output_type": "stream",
          "name": "stdout",
          "text": [
            "lambda is a Python keyword.\n"
          ]
        }
      ]
    },
    {
      "cell_type": "markdown",
      "source": [
        "Q5.  Create a list and tuple in Python, and demonstrate how attempting to change an element works differently\n",
        "for each."
      ],
      "metadata": {
        "id": "bdSbxoeFqVeV"
      }
    },
    {
      "cell_type": "code",
      "source": [
        "my_list = [10, 20, 30]\n",
        "my_tuple = (10, 20, 30)\n",
        "\n",
        "print(\"Original list:\", my_list)\n",
        "my_list[1] = 50\n",
        "print(\"Modified list:\", my_list)\n",
        "print(\"Original tuple:\", my_tuple)\n",
        "try:\n",
        "    my_tuple[1] = 99\n",
        "except TypeError as e:\n",
        "    print(\"Error:\", e)"
      ],
      "metadata": {
        "colab": {
          "base_uri": "https://localhost:8080/"
        },
        "id": "F2ptxsuOr3za",
        "outputId": "ba36dc1d-c72d-4090-8ed4-848b64bf06c3"
      },
      "execution_count": null,
      "outputs": [
        {
          "output_type": "stream",
          "name": "stdout",
          "text": [
            "Original list: [10, 20, 30]\n",
            "Modified list: [10, 50, 30]\n",
            "Original tuple: (10, 20, 30)\n",
            "Error: 'tuple' object does not support item assignment\n"
          ]
        }
      ]
    },
    {
      "cell_type": "markdown",
      "source": [
        "Q6. Write a function to demonstrate the behavior of mutable and immutable arguments."
      ],
      "metadata": {
        "id": "HUYEvwkCXCiv"
      }
    },
    {
      "cell_type": "code",
      "source": [
        "def modify(x, my_list):\n",
        "    x = x + 1\n",
        "    my_list.append(100)\n",
        "    print(\"Inside function:\")\n",
        "    print(\"x =\", x)\n",
        "    print(\"my_list =\", my_list)\n",
        "\n",
        "a = 10\n",
        "b = [1, 2, 3]\n",
        "\n",
        "print(\"Before function call:\")\n",
        "print(\"a =\", a)\n",
        "print(\"b =\", b)\n",
        "\n",
        "modify(a, b)\n",
        "\n",
        "print(\"After function call:\")\n",
        "print(\"a =\", a)\n",
        "print(\"b =\", b)"
      ],
      "metadata": {
        "colab": {
          "base_uri": "https://localhost:8080/"
        },
        "id": "k6HNwiYV_5wY",
        "outputId": "706f3618-59b6-470e-a3c1-e4bcaa3e0052"
      },
      "execution_count": 12,
      "outputs": [
        {
          "output_type": "stream",
          "name": "stdout",
          "text": [
            "Before function call:\n",
            "a = 10\n",
            "b = [1, 2, 3]\n",
            "Inside function:\n",
            "x = 11\n",
            "my_list = [1, 2, 3, 100]\n",
            "After function call:\n",
            "a = 10\n",
            "b = [1, 2, 3, 100]\n"
          ]
        }
      ]
    },
    {
      "cell_type": "markdown",
      "source": [
        "Q7. Write a program that performs basic arithmetic operations on two user-input numbers."
      ],
      "metadata": {
        "id": "Skg_EUpL2XZk"
      }
    },
    {
      "cell_type": "code",
      "source": [
        "a = 10\n",
        "b = 5\n",
        "\n",
        "sum_result = a + b\n",
        "print(\"Addition:\", sum_result)\n",
        "difference = a - b\n",
        "print(\"Subtraction:\", difference)\n",
        "product = a * b\n",
        "print(\"Multiplication:\", product)\n",
        "quotient = a / b\n",
        "print(\"Division:\", quotient)\n",
        "print(\"Results\")"
      ],
      "metadata": {
        "colab": {
          "base_uri": "https://localhost:8080/"
        },
        "id": "zujdxgw46Jkr",
        "outputId": "3232384d-a9e6-4c2c-ab8a-ab0cf572a97e"
      },
      "execution_count": 2,
      "outputs": [
        {
          "output_type": "stream",
          "name": "stdout",
          "text": [
            "Addition: 15\n",
            "Subtraction: 5\n",
            "Multiplication: 50\n",
            "Division: 2.0\n",
            "Results\n"
          ]
        }
      ]
    },
    {
      "cell_type": "markdown",
      "source": [
        "Q8. Write a program to demonstrate the use of logical operators."
      ],
      "metadata": {
        "id": "JWe5QJYl7B-N"
      }
    },
    {
      "cell_type": "code",
      "source": [
        "a = 7\n",
        "b = 5\n",
        "\n",
        "if(\"a > b\" and a > b):\n",
        "    print(\"False\")\n",
        "\n",
        "if(\"a > b\" or a > b):\n",
        "    print(\"True\")\n",
        "\n",
        "if(\"not a\", a>b):\n",
        "    print(\"False\")\n",
        "\n",
        "    if(\"not b\", a>b):\n",
        "        print(\"True\")"
      ],
      "metadata": {
        "colab": {
          "base_uri": "https://localhost:8080/"
        },
        "id": "PIzLI3_i7EIV",
        "outputId": "b05c9689-fba6-4e5b-9dd1-0aef57ff9ce2"
      },
      "execution_count": 3,
      "outputs": [
        {
          "output_type": "stream",
          "name": "stdout",
          "text": [
            "False\n",
            "True\n",
            "False\n",
            "True\n"
          ]
        }
      ]
    },
    {
      "cell_type": "markdown",
      "source": [
        "Q9. Write a Python program to convert user input from string to integer, float, and boolean types."
      ],
      "metadata": {
        "id": "ZIPzpxfMDUro"
      }
    },
    {
      "cell_type": "code",
      "source": [
        "a = \"6\"\n",
        "b = \"4.5\"\n",
        "\n",
        "#string to interger\n",
        "int_a = int(a)\n",
        "print(\"Integer a\",int_a)\n",
        "\n",
        "#string to float\n",
        "float_b = float(b)\n",
        "print(\"Float b\",float_b)\n",
        "\n",
        "# Convert string to boolean\n",
        "bool_a = bool(a)\n",
        "print(\"Boolean a\",bool_a)\n",
        "bool_b = bool(b)\n",
        "print(\"Boolean b\", bool_b)"
      ],
      "metadata": {
        "colab": {
          "base_uri": "https://localhost:8080/"
        },
        "id": "gbdXxjylDrKj",
        "outputId": "046532aa-f4c8-4fc2-9e72-141235126101"
      },
      "execution_count": 4,
      "outputs": [
        {
          "output_type": "stream",
          "name": "stdout",
          "text": [
            "Integer a 6\n",
            "Float b 4.5\n",
            "Boolean a True\n",
            "Boolean b True\n"
          ]
        }
      ]
    },
    {
      "cell_type": "markdown",
      "source": [
        "Q10. Write code to demonstrate type casting with list elements."
      ],
      "metadata": {
        "id": "uER0ERq7fGSg"
      }
    },
    {
      "cell_type": "code",
      "source": [
        "str_list = [\"5\", \"10\", \"15\", \"6.5\", \"True\", \"False\", \"\"]\n",
        "\n",
        "for item in str_list:\n",
        "    print(f\"Original string: '{item}'\")\n",
        "\n",
        "    if item.isdigit():\n",
        "        int_value = int(item)\n",
        "        print(\"As Integer:\", int_value)\n",
        "    else:\n",
        "        print(\"Cannot convert to Integer.\")\n",
        "\n",
        "    try:\n",
        "        float_value = float(item)\n",
        "        print(\"As Float:\", float_value)\n",
        "    except ValueError:\n",
        "        print(\"Cannot convert to Float.\")\n",
        "\n",
        "    if item == \"\":\n",
        "        print(\"As Boolean: False\")\n",
        "    else:\n",
        "        print(\"As Boolean: True\")\n"
      ],
      "metadata": {
        "colab": {
          "base_uri": "https://localhost:8080/"
        },
        "id": "Y2N2mDjEfXEG",
        "outputId": "f4999d18-26a0-496d-c432-68ad494210a3"
      },
      "execution_count": 6,
      "outputs": [
        {
          "output_type": "stream",
          "name": "stdout",
          "text": [
            "Original string: '5'\n",
            "As Integer: 5\n",
            "As Float: 5.0\n",
            "As Boolean: True\n",
            "Original string: '10'\n",
            "As Integer: 10\n",
            "As Float: 10.0\n",
            "As Boolean: True\n",
            "Original string: '15'\n",
            "As Integer: 15\n",
            "As Float: 15.0\n",
            "As Boolean: True\n",
            "Original string: '6.5'\n",
            "Cannot convert to Integer.\n",
            "As Float: 6.5\n",
            "As Boolean: True\n",
            "Original string: 'True'\n",
            "Cannot convert to Integer.\n",
            "Cannot convert to Float.\n",
            "As Boolean: True\n",
            "Original string: 'False'\n",
            "Cannot convert to Integer.\n",
            "Cannot convert to Float.\n",
            "As Boolean: True\n",
            "Original string: ''\n",
            "Cannot convert to Integer.\n",
            "Cannot convert to Float.\n",
            "As Boolean: False\n"
          ]
        }
      ]
    },
    {
      "cell_type": "markdown",
      "source": [
        "Q11. . Write a program that checks if a number is positive, negative, or zero."
      ],
      "metadata": {
        "id": "-_v7AcLbsk2c"
      }
    },
    {
      "cell_type": "code",
      "source": [
        "number = 8\n",
        "\n",
        "if number > 0:\n",
        "    print(\"The number is positive.\")\n",
        "elif number < 0:\n",
        "    print(\"The number is negative.\")\n",
        "else:\n",
        "    print(\"The number is zero.\")"
      ],
      "metadata": {
        "colab": {
          "base_uri": "https://localhost:8080/"
        },
        "id": "Mg8IsnLEsqM2",
        "outputId": "01c4f27f-27b2-4dd7-b170-4f0af01bdc80"
      },
      "execution_count": 7,
      "outputs": [
        {
          "output_type": "stream",
          "name": "stdout",
          "text": [
            "The number is positive.\n"
          ]
        }
      ]
    },
    {
      "cell_type": "markdown",
      "source": [
        "Q12. Write a for loop to print numbers from 1 to 10."
      ],
      "metadata": {
        "id": "sKF2H8X_teyg"
      }
    },
    {
      "cell_type": "code",
      "source": [
        "num =[1,2,3,4,5,6,7,8,9,10]\n",
        "for num in range(1,11):\n",
        "    print(num)"
      ],
      "metadata": {
        "colab": {
          "base_uri": "https://localhost:8080/"
        },
        "id": "5fEgfxAOtnEn",
        "outputId": "9937702e-1609-43b1-884a-2e55663bab3a"
      },
      "execution_count": 8,
      "outputs": [
        {
          "output_type": "stream",
          "name": "stdout",
          "text": [
            "1\n",
            "2\n",
            "3\n",
            "4\n",
            "5\n",
            "6\n",
            "7\n",
            "8\n",
            "9\n",
            "10\n"
          ]
        }
      ]
    },
    {
      "cell_type": "markdown",
      "source": [
        "Q13. . Write a Python program to find the sum of all even numbers between 1 and 50."
      ],
      "metadata": {
        "id": "JTY7pBayucX4"
      }
    },
    {
      "cell_type": "code",
      "source": [
        "sum_even = 0\n",
        "\n",
        "for i in range (1, 51):\n",
        "    if i % 2 == 0:\n",
        "        sum_even += i\n",
        "        print(\"sum of even numbers from 1 to 50\",sum_even)"
      ],
      "metadata": {
        "colab": {
          "base_uri": "https://localhost:8080/"
        },
        "id": "QFwv8Zh0uo9T",
        "outputId": "7af94561-01cd-46a4-f1d7-4b230e79cf67"
      },
      "execution_count": 9,
      "outputs": [
        {
          "output_type": "stream",
          "name": "stdout",
          "text": [
            "sum of even numbers from 1 to 50 2\n",
            "sum of even numbers from 1 to 50 6\n",
            "sum of even numbers from 1 to 50 12\n",
            "sum of even numbers from 1 to 50 20\n",
            "sum of even numbers from 1 to 50 30\n",
            "sum of even numbers from 1 to 50 42\n",
            "sum of even numbers from 1 to 50 56\n",
            "sum of even numbers from 1 to 50 72\n",
            "sum of even numbers from 1 to 50 90\n",
            "sum of even numbers from 1 to 50 110\n",
            "sum of even numbers from 1 to 50 132\n",
            "sum of even numbers from 1 to 50 156\n",
            "sum of even numbers from 1 to 50 182\n",
            "sum of even numbers from 1 to 50 210\n",
            "sum of even numbers from 1 to 50 240\n",
            "sum of even numbers from 1 to 50 272\n",
            "sum of even numbers from 1 to 50 306\n",
            "sum of even numbers from 1 to 50 342\n",
            "sum of even numbers from 1 to 50 380\n",
            "sum of even numbers from 1 to 50 420\n",
            "sum of even numbers from 1 to 50 462\n",
            "sum of even numbers from 1 to 50 506\n",
            "sum of even numbers from 1 to 50 552\n",
            "sum of even numbers from 1 to 50 600\n",
            "sum of even numbers from 1 to 50 650\n"
          ]
        }
      ]
    },
    {
      "cell_type": "markdown",
      "source": [
        "Q14. . Write a program to reverse a string using a while loop."
      ],
      "metadata": {
        "id": "qVO112RzxsX_"
      }
    },
    {
      "cell_type": "code",
      "source": [
        "text = \"soma\"\n",
        "\n",
        "reversed_text = \"\"\n",
        "index = len(text) - 1\n",
        "\n",
        "while index >= 0:\n",
        "    reversed_text += text[index]\n",
        "    index -= 1\n",
        "\n",
        "print(\"Reversed string:\", reversed_text)"
      ],
      "metadata": {
        "colab": {
          "base_uri": "https://localhost:8080/"
        },
        "id": "DDAu85J0xxiX",
        "outputId": "a2292cf4-bb2a-485d-e646-6042f8516760"
      },
      "execution_count": 10,
      "outputs": [
        {
          "output_type": "stream",
          "name": "stdout",
          "text": [
            "Reversed string: amos\n"
          ]
        }
      ]
    },
    {
      "cell_type": "markdown",
      "source": [
        "Q15.  Write a Python program to calculate the factorial of a number provided by the user using a while loop."
      ],
      "metadata": {
        "id": "h450h6WQyeQ9"
      }
    },
    {
      "cell_type": "code",
      "source": [
        "num = 6\n",
        "\n",
        "factorial = 1\n",
        "i = 1\n",
        "if num < 0:\n",
        "    print(\"Factorial is not defined for negative numbers.\")\n",
        "else:\n",
        "    while i <= num:\n",
        "        factorial *= i\n",
        "        i += 1\n",
        "    print(f\"The factorial of {num} is: {factorial}\")\n"
      ],
      "metadata": {
        "colab": {
          "base_uri": "https://localhost:8080/"
        },
        "id": "Y9O-yRUZykiK",
        "outputId": "f72c018d-cc96-4a8b-a5c4-30d433a72bae"
      },
      "execution_count": 11,
      "outputs": [
        {
          "output_type": "stream",
          "name": "stdout",
          "text": [
            "The factorial of 6 is: 720\n"
          ]
        }
      ]
    }
  ]
}